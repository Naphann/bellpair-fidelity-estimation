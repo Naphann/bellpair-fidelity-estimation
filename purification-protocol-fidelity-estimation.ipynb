{
 "cells": [
  {
   "cell_type": "code",
   "execution_count": 1,
   "metadata": {},
   "outputs": [],
   "source": [
    "import numpy as np\n",
    "import stim"
   ]
  },
  {
   "cell_type": "code",
   "execution_count": 2,
   "metadata": {},
   "outputs": [],
   "source": [
    "def noisy_bell_pair(num_pairs: int, x_err_prob: float, y_err_prob: float, z_err_prob: float) -> stim.Circuit:\n",
    "    if x_err_prob + y_err_prob + z_err_prob > 1:\n",
    "        raise ValueError(f\"total error cannot exceed 1 : sum of args equal {x_err_prob + y_err_prob + z_err_prob}\")\n",
    "    circuit = stim.Circuit()\n",
    "    circuit.append(\"H\", [i for i in range(0, 2 * num_pairs, 2)])\n",
    "    circuit.append(\"CNOT\", [i for i in range(2 * num_pairs)])\n",
    "    circuit.append(f\"PAULI_CHANNEL_1\", [i for i in range(0, 2 * num_pairs, 2)], (x_err_prob, y_err_prob, z_err_prob))\n",
    "    return circuit"
   ]
  },
  {
   "cell_type": "code",
   "execution_count": 3,
   "metadata": {},
   "outputs": [],
   "source": [
    "def process_bell_pair_statistics(sample_arrays: np.ndarray):\n",
    "    # we assume that the last two measurements are for x_error and z_error\n",
    "    # and that all measurements before the last two must all agree \n",
    "    no_err_count, x_err_count, y_err_count, z_err_count = 0, 0, 0, 0\n",
    "    n = len(sample_arrays[0])\n",
    "    m = (n - 2) // 2\n",
    "    for meas in sample_arrays:\n",
    "        # check meas[0:m+1] == meas[m:m+m+1]\n",
    "        for i in range((n-2) // 2):\n",
    "            if meas[i] != meas[i + m]:\n",
    "                break\n",
    "        else:\n",
    "            z_error, x_error = meas[-2], meas[-1]\n",
    "            if x_error and z_error:\n",
    "                y_err_count += 1\n",
    "            elif x_error:\n",
    "                x_err_count += 1\n",
    "            elif z_error:\n",
    "                z_err_count +=1\n",
    "            else:\n",
    "                no_err_count += 1\n",
    "    \n",
    "    return (no_err_count, x_err_count, y_err_count, z_err_count), (no_err_count + x_err_count + y_err_count + z_err_count) / len(sample_arrays)"
   ]
  },
  {
   "cell_type": "code",
   "execution_count": 4,
   "metadata": {},
   "outputs": [],
   "source": [
    "def pretty_print_result(protocol_name: str, x_err_prob: float, y_err_prob: float, z_err_prob: float, numshot: int, result_tuple: tuple[tuple[int, int, int, int], float]) -> None:\n",
    "    longest_len = max([len(str(i)) for i in result_tuple[0]])\n",
    "    print(\"==========================================\")\n",
    "    print(f\"simulating {protocol_name} with {numshot}\")\n",
    "    print(f\"    initial error probability\")\n",
    "    print(f\"        I: {(1 - x_err_prob - y_err_prob - z_err_prob):.5f}\")\n",
    "    print(f\"        X: {(x_err_prob):.5f}\")\n",
    "    print(f\"        Y: {(y_err_prob):.5f}\")\n",
    "    print(f\"        Z: {(z_err_prob):.5f}\")\n",
    "    print(f\"    Output (fidelity: {result_tuple[0][0] / np.sum(result_tuple[0])}):\")\n",
    "    print(f\"        success probability: {result_tuple[1]:.5f} ({np.sum(result_tuple[0])}/{numshot})\")\n",
    "    print(f\"        I: {result_tuple[0][0] / (np.sum(result_tuple[0])):.5f} ({result_tuple[0][0]:>{longest_len}}/{np.sum(result_tuple[0])})\")\n",
    "    print(f\"        X: {result_tuple[0][1] / (np.sum(result_tuple[0])):.5f} ({result_tuple[0][1]:>{longest_len}}/{np.sum(result_tuple[0])})\")\n",
    "    print(f\"        Y: {result_tuple[0][2] / (np.sum(result_tuple[0])):.5f} ({result_tuple[0][2]:>{longest_len}}/{np.sum(result_tuple[0])})\")\n",
    "    print(f\"        Z: {result_tuple[0][3] / (np.sum(result_tuple[0])):.5f} ({result_tuple[0][3]:>{longest_len}}/{np.sum(result_tuple[0])})\")"
   ]
  },
  {
   "cell_type": "code",
   "execution_count": 5,
   "metadata": {},
   "outputs": [],
   "source": [
    "def zz_detection_purification(x_err_prob: float, y_err_prob: float, z_err_prob: float):\n",
    "    numshots = 10_000_000\n",
    "\n",
    "    circuit = noisy_bell_pair(2, x_err_prob, y_err_prob, z_err_prob)\n",
    "    circuit.append(\"CNOT\", [0, 2, 1, 3])\n",
    "    circuit.append(\"M\", [2, 3])\n",
    "    circuit.append(\"CNOT\", [0, 1]) # rec(0) rec(1)\n",
    "    circuit.append(\"H\", 0)\n",
    "    circuit.append(\"M\", [0, 1]) # rec(2) rec(3)\n",
    "    \n",
    "    sampler = circuit.compile_sampler()\n",
    "    result = process_bell_pair_statistics(sampler.sample(shots=numshots))\n",
    "    pretty_print_result(\"Single Selection Detecting X/Y Error (ZZ syndrome) Purification\", x_err_prob, y_err_prob, z_err_prob, numshots, result)\n",
    "\n",
    "def xx_detection_purification(x_err_prob: float, y_err_prob: float, z_err_prob: float):\n",
    "    numshots = 10_000_000\n",
    "\n",
    "    circuit = noisy_bell_pair(2, x_err_prob, y_err_prob, z_err_prob)\n",
    "    circuit.append(\"CNOT\", [2, 0, 3, 1])\n",
    "    circuit.append(\"MX\", [2, 3])\n",
    "    circuit.append(\"CNOT\", [0, 1]) # rec(0) rec(1)\n",
    "    circuit.append(\"H\", 0)\n",
    "    circuit.append(\"M\", [0, 1]) # rec(2) rec(3)\n",
    "    \n",
    "    sampler = circuit.compile_sampler()\n",
    "    result = process_bell_pair_statistics(sampler.sample(shots=numshots))\n",
    "    pretty_print_result(\"Single Selection Detecting Y/Z Error (XX syndrome) Purification\", x_err_prob, y_err_prob, z_err_prob, numshots, result)\n",
    "\n",
    "def yy_detection_purification(x_err_prob: float, y_err_prob: float, z_err_prob: float):\n",
    "    numshots = 10_000_000\n",
    "\n",
    "    circuit = noisy_bell_pair(2, x_err_prob, y_err_prob, z_err_prob)\n",
    "    circuit.append(\"S_DAG\", [0, 1, 2, 3])\n",
    "    circuit.append(\"CNOT\", [2, 0, 3, 1])\n",
    "    circuit.append(\"MX\", [2, 3])\n",
    "    circuit.append(\"S\", [0, 1])\n",
    "    circuit.append(\"CNOT\", [0, 1]) # rec(0) rec(1)\n",
    "    circuit.append(\"H\", 0)\n",
    "    circuit.append(\"M\", [0, 1]) # rec(2) rec(3)\n",
    "    \n",
    "    sampler = circuit.compile_sampler()\n",
    "    result = process_bell_pair_statistics(sampler.sample(shots=numshots))\n",
    "    pretty_print_result(\"Single Selection Detecting X/Z Error (YY syndrome) Purification\", x_err_prob, y_err_prob, z_err_prob, numshots, result)"
   ]
  },
  {
   "cell_type": "code",
   "execution_count": 6,
   "metadata": {},
   "outputs": [
    {
     "name": "stdout",
     "output_type": "stream",
     "text": [
      "==========================================\n",
      "simulating Single Selection Detecting X/Y Error (ZZ syndrome) Purification with 10000000\n",
      "    initial error probability\n",
      "        I: 0.85000\n",
      "        X: 0.05000\n",
      "        Y: 0.05000\n",
      "        Z: 0.05000\n",
      "    Output (fidelity: 0.8839229602981231):\n",
      "        success probability: 0.82012 (8201174/10000000)\n",
      "        I: 0.88392 (7249206/8201174)\n",
      "        X: 0.00609 (  49919/8201174)\n",
      "        Y: 0.00609 (  49978/8201174)\n",
      "        Z: 0.10390 ( 852071/8201174)\n",
      "==========================================\n",
      "simulating Single Selection Detecting Y/Z Error (XX syndrome) Purification with 10000000\n",
      "    initial error probability\n",
      "        I: 0.85000\n",
      "        X: 0.05000\n",
      "        Y: 0.05000\n",
      "        Z: 0.05000\n",
      "    Output (fidelity: 0.8840376660234543):\n",
      "        success probability: 0.82010 (8201025/10000000)\n",
      "        I: 0.88404 (7250015/8201025)\n",
      "        X: 0.10370 ( 850435/8201025)\n",
      "        Y: 0.00611 (  50125/8201025)\n",
      "        Z: 0.00615 (  50450/8201025)\n",
      "==========================================\n",
      "simulating Single Selection Detecting X/Z Error (YY syndrome) Purification with 10000000\n",
      "    initial error probability\n",
      "        I: 0.85000\n",
      "        X: 0.05000\n",
      "        Y: 0.05000\n",
      "        Z: 0.05000\n",
      "    Output (fidelity: 0.8840823228602954):\n",
      "        success probability: 0.82010 (8201027/10000000)\n",
      "        I: 0.88408 (7250383/8201027)\n",
      "        X: 0.00610 (  50027/8201027)\n",
      "        Y: 0.10371 ( 850549/8201027)\n",
      "        Z: 0.00611 (  50068/8201027)\n"
     ]
    }
   ],
   "source": [
    "# for Werner state, we expect all to be equal (close to each other)\n",
    "zz_detection_purification(0.05, 0.05, 0.05)\n",
    "xx_detection_purification(0.05, 0.05, 0.05)\n",
    "yy_detection_purification(0.05, 0.05, 0.05)"
   ]
  },
  {
   "cell_type": "code",
   "execution_count": null,
   "metadata": {},
   "outputs": [],
   "source": []
  }
 ],
 "metadata": {
  "kernelspec": {
   "display_name": "bell-estimation-env",
   "language": "python",
   "name": "python3"
  },
  "language_info": {
   "codemirror_mode": {
    "name": "ipython",
    "version": 3
   },
   "file_extension": ".py",
   "mimetype": "text/x-python",
   "name": "python",
   "nbconvert_exporter": "python",
   "pygments_lexer": "ipython3",
   "version": "3.12.4"
  }
 },
 "nbformat": 4,
 "nbformat_minor": 2
}
